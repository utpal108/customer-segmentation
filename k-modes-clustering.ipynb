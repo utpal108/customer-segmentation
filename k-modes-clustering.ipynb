{
 "cells": [
  {
   "cell_type": "markdown",
   "metadata": {
    "_uuid": "060867558cd26d8cff9affe07a6ab653f38b9900"
   },
   "source": [
    "## K-Mode Clustering"
   ]
  },
  {
   "cell_type": "markdown",
   "metadata": {},
   "source": [
    "### Importing all required packages"
   ]
  },
  {
   "cell_type": "code",
   "execution_count": 138,
   "metadata": {
    "_uuid": "0893c9adcebb6ccec74e57b665988919f6fc7b3c"
   },
   "outputs": [],
   "source": [
    "# Importing all required packages\n",
    "import numpy as np\n",
    "import pandas as pd\n",
    "\n",
    "# Import module for data visualization\n",
    "from plotnine import *\n",
    "import plotnine\n",
    "\n",
    "# Data viz lib\n",
    "import matplotlib.pyplot as plt\n",
    "import seaborn as sns\n",
    "%matplotlib inline\n",
    "from matplotlib.pyplot import xticks"
   ]
  },
  {
   "cell_type": "markdown",
   "metadata": {
    "_uuid": "9eea57adb77ab947786e94ee0f4f067807356214"
   },
   "source": [
    "### Data Reading and Understading"
   ]
  },
  {
   "cell_type": "code",
   "execution_count": 139,
   "metadata": {
    "_uuid": "2f2fa19f47cfe6f4136a40a4b8f539438fa22bc4"
   },
   "outputs": [],
   "source": [
    "df = pd.read_csv('data.csv')"
   ]
  },
  {
   "cell_type": "code",
   "execution_count": 140,
   "metadata": {
    "_uuid": "cea2534040a66610bfed13e4ce397e5ed955aefb",
    "scrolled": true
   },
   "outputs": [
    {
     "data": {
      "text/html": [
       "<div>\n",
       "<style scoped>\n",
       "    .dataframe tbody tr th:only-of-type {\n",
       "        vertical-align: middle;\n",
       "    }\n",
       "\n",
       "    .dataframe tbody tr th {\n",
       "        vertical-align: top;\n",
       "    }\n",
       "\n",
       "    .dataframe thead th {\n",
       "        text-align: right;\n",
       "    }\n",
       "</style>\n",
       "<table border=\"1\" class=\"dataframe\">\n",
       "  <thead>\n",
       "    <tr style=\"text-align: right;\">\n",
       "      <th></th>\n",
       "      <th>Timestamp</th>\n",
       "      <th>Name</th>\n",
       "      <th>Gender</th>\n",
       "      <th>Location</th>\n",
       "      <th>Preferred product type</th>\n",
       "      <th>Preferred brand</th>\n",
       "      <th>Times of shop in a month</th>\n",
       "      <th>Maximum amount  spend on single order</th>\n",
       "      <th>Maximum amount expend on each month</th>\n",
       "      <th>Acceptable number of delivery days</th>\n",
       "      <th>Type of offer you like most</th>\n",
       "    </tr>\n",
       "  </thead>\n",
       "  <tbody>\n",
       "    <tr>\n",
       "      <th>0</th>\n",
       "      <td>5/2/2022 16:57:25</td>\n",
       "      <td>Vikas</td>\n",
       "      <td>Male</td>\n",
       "      <td>Bihar</td>\n",
       "      <td>Fashion</td>\n",
       "      <td>Others</td>\n",
       "      <td>2 -5</td>\n",
       "      <td>500 - 1500</td>\n",
       "      <td>1000 - 5000</td>\n",
       "      <td>2 - 3 Days</td>\n",
       "      <td>Discount On Price</td>\n",
       "    </tr>\n",
       "    <tr>\n",
       "      <th>1</th>\n",
       "      <td>5/2/2022 16:57:42</td>\n",
       "      <td>Sagnik Bhattacharya</td>\n",
       "      <td>Male</td>\n",
       "      <td>West Bengal</td>\n",
       "      <td>Electronics</td>\n",
       "      <td>Sony</td>\n",
       "      <td>2 -5</td>\n",
       "      <td>Less than 500</td>\n",
       "      <td>1000 - 5000</td>\n",
       "      <td>2 - 3 Days</td>\n",
       "      <td>Discount On Price</td>\n",
       "    </tr>\n",
       "    <tr>\n",
       "      <th>2</th>\n",
       "      <td>5/2/2022 17:04:09</td>\n",
       "      <td>Raj</td>\n",
       "      <td>Male</td>\n",
       "      <td>Jharkhand</td>\n",
       "      <td>Electronics</td>\n",
       "      <td>Samsung</td>\n",
       "      <td>1 or Less than 1</td>\n",
       "      <td>More than 5000</td>\n",
       "      <td>More than 10000</td>\n",
       "      <td>2 - 3 Days</td>\n",
       "      <td>Product Purchase on Installement</td>\n",
       "    </tr>\n",
       "    <tr>\n",
       "      <th>3</th>\n",
       "      <td>5/2/2022 17:05:04</td>\n",
       "      <td>Madhusudhan</td>\n",
       "      <td>Male</td>\n",
       "      <td>Andhra Pradesh</td>\n",
       "      <td>Electronics</td>\n",
       "      <td>Sony</td>\n",
       "      <td>1 or Less than 1</td>\n",
       "      <td>500 - 1500</td>\n",
       "      <td>1000 - 5000</td>\n",
       "      <td>2 - 3 Days</td>\n",
       "      <td>Discount On Price</td>\n",
       "    </tr>\n",
       "    <tr>\n",
       "      <th>4</th>\n",
       "      <td>5/2/2022 17:06:43</td>\n",
       "      <td>Rahul Pathak</td>\n",
       "      <td>Male</td>\n",
       "      <td>Bihar</td>\n",
       "      <td>Electronics</td>\n",
       "      <td>Samsung</td>\n",
       "      <td>2 -5</td>\n",
       "      <td>500 - 1500</td>\n",
       "      <td>1000 - 5000</td>\n",
       "      <td>3 - 5 Days</td>\n",
       "      <td>Discount On Price</td>\n",
       "    </tr>\n",
       "  </tbody>\n",
       "</table>\n",
       "</div>"
      ],
      "text/plain": [
       "           Timestamp                 Name Gender        Location  \\\n",
       "0  5/2/2022 16:57:25                Vikas   Male           Bihar   \n",
       "1  5/2/2022 16:57:42  Sagnik Bhattacharya   Male     West Bengal   \n",
       "2  5/2/2022 17:04:09                  Raj   Male       Jharkhand   \n",
       "3  5/2/2022 17:05:04         Madhusudhan    Male  Andhra Pradesh   \n",
       "4  5/2/2022 17:06:43         Rahul Pathak   Male           Bihar   \n",
       "\n",
       "  Preferred product type Preferred brand Times of shop in a month  \\\n",
       "0                Fashion          Others                     2 -5   \n",
       "1            Electronics            Sony                     2 -5   \n",
       "2            Electronics         Samsung         1 or Less than 1   \n",
       "3            Electronics            Sony         1 or Less than 1   \n",
       "4            Electronics         Samsung                     2 -5   \n",
       "\n",
       "  Maximum amount  spend on single order Maximum amount expend on each month  \\\n",
       "0                            500 - 1500                         1000 - 5000   \n",
       "1                         Less than 500                         1000 - 5000   \n",
       "2                        More than 5000                     More than 10000   \n",
       "3                            500 - 1500                         1000 - 5000   \n",
       "4                            500 - 1500                         1000 - 5000   \n",
       "\n",
       "  Acceptable number of delivery days       Type of offer you like most  \n",
       "0                         2 - 3 Days                 Discount On Price  \n",
       "1                         2 - 3 Days                 Discount On Price  \n",
       "2                         2 - 3 Days  Product Purchase on Installement  \n",
       "3                         2 - 3 Days                 Discount On Price  \n",
       "4                         3 - 5 Days                 Discount On Price  "
      ]
     },
     "execution_count": 140,
     "metadata": {},
     "output_type": "execute_result"
    }
   ],
   "source": [
    "df.head()"
   ]
  },
  {
   "cell_type": "markdown",
   "metadata": {},
   "source": [
    "### Data Preprocessing"
   ]
  },
  {
   "cell_type": "code",
   "execution_count": 141,
   "metadata": {},
   "outputs": [],
   "source": [
    "df=df.drop(['Timestamp'], axis=1)"
   ]
  },
  {
   "cell_type": "code",
   "execution_count": 142,
   "metadata": {},
   "outputs": [
    {
     "data": {
      "text/html": [
       "<div>\n",
       "<style scoped>\n",
       "    .dataframe tbody tr th:only-of-type {\n",
       "        vertical-align: middle;\n",
       "    }\n",
       "\n",
       "    .dataframe tbody tr th {\n",
       "        vertical-align: top;\n",
       "    }\n",
       "\n",
       "    .dataframe thead th {\n",
       "        text-align: right;\n",
       "    }\n",
       "</style>\n",
       "<table border=\"1\" class=\"dataframe\">\n",
       "  <thead>\n",
       "    <tr style=\"text-align: right;\">\n",
       "      <th></th>\n",
       "      <th>Name</th>\n",
       "      <th>Gender</th>\n",
       "      <th>Location</th>\n",
       "      <th>Preferred product type</th>\n",
       "      <th>Preferred brand</th>\n",
       "      <th>Times of shop in a month</th>\n",
       "      <th>Maximum amount  spend on single order</th>\n",
       "      <th>Maximum amount expend on each month</th>\n",
       "      <th>Acceptable number of delivery days</th>\n",
       "      <th>Type of offer you like most</th>\n",
       "    </tr>\n",
       "  </thead>\n",
       "  <tbody>\n",
       "    <tr>\n",
       "      <th>0</th>\n",
       "      <td>Vikas</td>\n",
       "      <td>Male</td>\n",
       "      <td>Bihar</td>\n",
       "      <td>Fashion</td>\n",
       "      <td>Others</td>\n",
       "      <td>2 -5</td>\n",
       "      <td>500 - 1500</td>\n",
       "      <td>1000 - 5000</td>\n",
       "      <td>2 - 3 Days</td>\n",
       "      <td>Discount On Price</td>\n",
       "    </tr>\n",
       "    <tr>\n",
       "      <th>1</th>\n",
       "      <td>Sagnik Bhattacharya</td>\n",
       "      <td>Male</td>\n",
       "      <td>West Bengal</td>\n",
       "      <td>Electronics</td>\n",
       "      <td>Sony</td>\n",
       "      <td>2 -5</td>\n",
       "      <td>Less than 500</td>\n",
       "      <td>1000 - 5000</td>\n",
       "      <td>2 - 3 Days</td>\n",
       "      <td>Discount On Price</td>\n",
       "    </tr>\n",
       "    <tr>\n",
       "      <th>2</th>\n",
       "      <td>Raj</td>\n",
       "      <td>Male</td>\n",
       "      <td>Jharkhand</td>\n",
       "      <td>Electronics</td>\n",
       "      <td>Samsung</td>\n",
       "      <td>1 or Less than 1</td>\n",
       "      <td>More than 5000</td>\n",
       "      <td>More than 10000</td>\n",
       "      <td>2 - 3 Days</td>\n",
       "      <td>Product Purchase on Installement</td>\n",
       "    </tr>\n",
       "    <tr>\n",
       "      <th>3</th>\n",
       "      <td>Madhusudhan</td>\n",
       "      <td>Male</td>\n",
       "      <td>Andhra Pradesh</td>\n",
       "      <td>Electronics</td>\n",
       "      <td>Sony</td>\n",
       "      <td>1 or Less than 1</td>\n",
       "      <td>500 - 1500</td>\n",
       "      <td>1000 - 5000</td>\n",
       "      <td>2 - 3 Days</td>\n",
       "      <td>Discount On Price</td>\n",
       "    </tr>\n",
       "    <tr>\n",
       "      <th>4</th>\n",
       "      <td>Rahul Pathak</td>\n",
       "      <td>Male</td>\n",
       "      <td>Bihar</td>\n",
       "      <td>Electronics</td>\n",
       "      <td>Samsung</td>\n",
       "      <td>2 -5</td>\n",
       "      <td>500 - 1500</td>\n",
       "      <td>1000 - 5000</td>\n",
       "      <td>3 - 5 Days</td>\n",
       "      <td>Discount On Price</td>\n",
       "    </tr>\n",
       "    <tr>\n",
       "      <th>5</th>\n",
       "      <td>Hari Krishna D R</td>\n",
       "      <td>Male</td>\n",
       "      <td>Karnataka</td>\n",
       "      <td>Fashion</td>\n",
       "      <td>Others</td>\n",
       "      <td>2 -5</td>\n",
       "      <td>3001 - 5000</td>\n",
       "      <td>5001 - 10000</td>\n",
       "      <td>2 - 3 Days</td>\n",
       "      <td>Discount On Price</td>\n",
       "    </tr>\n",
       "    <tr>\n",
       "      <th>6</th>\n",
       "      <td>Mukesh Ambani S S</td>\n",
       "      <td>Male</td>\n",
       "      <td>Others</td>\n",
       "      <td>Groceries</td>\n",
       "      <td>Others</td>\n",
       "      <td>6-8</td>\n",
       "      <td>1501 - 3000</td>\n",
       "      <td>More than 10000</td>\n",
       "      <td>1 Day</td>\n",
       "      <td>Others</td>\n",
       "    </tr>\n",
       "    <tr>\n",
       "      <th>7</th>\n",
       "      <td>Rani</td>\n",
       "      <td>Female</td>\n",
       "      <td>Kerala</td>\n",
       "      <td>Baby Products</td>\n",
       "      <td>Johnson &amp; Johnson</td>\n",
       "      <td>1 or Less than 1</td>\n",
       "      <td>500 - 1500</td>\n",
       "      <td>Less than 1000</td>\n",
       "      <td>2 - 3 Days</td>\n",
       "      <td>Discount On Price</td>\n",
       "    </tr>\n",
       "    <tr>\n",
       "      <th>8</th>\n",
       "      <td>Arathi</td>\n",
       "      <td>Female</td>\n",
       "      <td>Kerala</td>\n",
       "      <td>Books</td>\n",
       "      <td>Others</td>\n",
       "      <td>1 or Less than 1</td>\n",
       "      <td>500 - 1500</td>\n",
       "      <td>Less than 1000</td>\n",
       "      <td>3 - 5 Days</td>\n",
       "      <td>Discount On Price</td>\n",
       "    </tr>\n",
       "    <tr>\n",
       "      <th>9</th>\n",
       "      <td>Tushar</td>\n",
       "      <td>Male</td>\n",
       "      <td>Madhya Pradesh</td>\n",
       "      <td>Fashion</td>\n",
       "      <td>Others</td>\n",
       "      <td>2 -5</td>\n",
       "      <td>1501 - 3000</td>\n",
       "      <td>1000 - 5000</td>\n",
       "      <td>3 - 5 Days</td>\n",
       "      <td>Discount On Price</td>\n",
       "    </tr>\n",
       "    <tr>\n",
       "      <th>10</th>\n",
       "      <td>Chandra Sekhar</td>\n",
       "      <td>Male</td>\n",
       "      <td>Andhra Pradesh</td>\n",
       "      <td>Electronics</td>\n",
       "      <td>Sony</td>\n",
       "      <td>1 or Less than 1</td>\n",
       "      <td>500 - 1500</td>\n",
       "      <td>1000 - 5000</td>\n",
       "      <td>2 - 3 Days</td>\n",
       "      <td>Discount On Price</td>\n",
       "    </tr>\n",
       "    <tr>\n",
       "      <th>11</th>\n",
       "      <td>Y C Karthikreddy</td>\n",
       "      <td>Male</td>\n",
       "      <td>Andhra Pradesh</td>\n",
       "      <td>Electronics</td>\n",
       "      <td>Samsung</td>\n",
       "      <td>1 or Less than 1</td>\n",
       "      <td>1501 - 3000</td>\n",
       "      <td>More than 10000</td>\n",
       "      <td>More than 5 days</td>\n",
       "      <td>Discount On Price</td>\n",
       "    </tr>\n",
       "    <tr>\n",
       "      <th>12</th>\n",
       "      <td>Shradha</td>\n",
       "      <td>Female</td>\n",
       "      <td>Others</td>\n",
       "      <td>Electronics</td>\n",
       "      <td>Samsung</td>\n",
       "      <td>2 -5</td>\n",
       "      <td>500 - 1500</td>\n",
       "      <td>1000 - 5000</td>\n",
       "      <td>2 - 3 Days</td>\n",
       "      <td>Discount On Price</td>\n",
       "    </tr>\n",
       "    <tr>\n",
       "      <th>13</th>\n",
       "      <td>Aishwarya</td>\n",
       "      <td>Female</td>\n",
       "      <td>Madhya Pradesh</td>\n",
       "      <td>Fashion</td>\n",
       "      <td>Zara</td>\n",
       "      <td>1 or Less than 1</td>\n",
       "      <td>500 - 1500</td>\n",
       "      <td>1000 - 5000</td>\n",
       "      <td>More than 5 days</td>\n",
       "      <td>Discount On Price</td>\n",
       "    </tr>\n",
       "    <tr>\n",
       "      <th>14</th>\n",
       "      <td>Madhumati</td>\n",
       "      <td>Female</td>\n",
       "      <td>Karnataka</td>\n",
       "      <td>Electronics</td>\n",
       "      <td>Samsung</td>\n",
       "      <td>1 or Less than 1</td>\n",
       "      <td>500 - 1500</td>\n",
       "      <td>1000 - 5000</td>\n",
       "      <td>3 - 5 Days</td>\n",
       "      <td>Discount On Price</td>\n",
       "    </tr>\n",
       "    <tr>\n",
       "      <th>15</th>\n",
       "      <td>Sakshi</td>\n",
       "      <td>Female</td>\n",
       "      <td>Chhattisgarh</td>\n",
       "      <td>Electronics</td>\n",
       "      <td>Xiomai</td>\n",
       "      <td>2 -5</td>\n",
       "      <td>1501 - 3000</td>\n",
       "      <td>Less than 1000</td>\n",
       "      <td>3 - 5 Days</td>\n",
       "      <td>Discount On Price</td>\n",
       "    </tr>\n",
       "    <tr>\n",
       "      <th>16</th>\n",
       "      <td>Salman Sirumavilla</td>\n",
       "      <td>Male</td>\n",
       "      <td>Andhra Pradesh</td>\n",
       "      <td>Electronics</td>\n",
       "      <td>Samsung</td>\n",
       "      <td>1 or Less than 1</td>\n",
       "      <td>1501 - 3000</td>\n",
       "      <td>1000 - 5000</td>\n",
       "      <td>3 - 5 Days</td>\n",
       "      <td>Others</td>\n",
       "    </tr>\n",
       "    <tr>\n",
       "      <th>17</th>\n",
       "      <td>Ann</td>\n",
       "      <td>Female</td>\n",
       "      <td>Maharashtra</td>\n",
       "      <td>Books</td>\n",
       "      <td>Others</td>\n",
       "      <td>1 or Less than 1</td>\n",
       "      <td>1501 - 3000</td>\n",
       "      <td>1000 - 5000</td>\n",
       "      <td>2 - 3 Days</td>\n",
       "      <td>Discount On Price</td>\n",
       "    </tr>\n",
       "    <tr>\n",
       "      <th>18</th>\n",
       "      <td>Reola</td>\n",
       "      <td>Female</td>\n",
       "      <td>Goa</td>\n",
       "      <td>Baby Products</td>\n",
       "      <td>Zara</td>\n",
       "      <td>6-8</td>\n",
       "      <td>1501 - 3000</td>\n",
       "      <td>5001 - 10000</td>\n",
       "      <td>3 - 5 Days</td>\n",
       "      <td>Delivery on same day</td>\n",
       "    </tr>\n",
       "    <tr>\n",
       "      <th>19</th>\n",
       "      <td>Vikas Sharma</td>\n",
       "      <td>Male</td>\n",
       "      <td>Bihar</td>\n",
       "      <td>Others</td>\n",
       "      <td>Others</td>\n",
       "      <td>1 or Less than 1</td>\n",
       "      <td>Less than 500</td>\n",
       "      <td>Less than 1000</td>\n",
       "      <td>1 Day</td>\n",
       "      <td>Discount On Price</td>\n",
       "    </tr>\n",
       "    <tr>\n",
       "      <th>20</th>\n",
       "      <td>Digpal Singh</td>\n",
       "      <td>Male</td>\n",
       "      <td>Others</td>\n",
       "      <td>Electronics</td>\n",
       "      <td>Xiomai</td>\n",
       "      <td>More than 8</td>\n",
       "      <td>More than 5000</td>\n",
       "      <td>5001 - 10000</td>\n",
       "      <td>2 - 3 Days</td>\n",
       "      <td>Delivery on same day</td>\n",
       "    </tr>\n",
       "  </tbody>\n",
       "</table>\n",
       "</div>"
      ],
      "text/plain": [
       "                   Name  Gender        Location Preferred product type  \\\n",
       "0                 Vikas    Male           Bihar                Fashion   \n",
       "1   Sagnik Bhattacharya    Male     West Bengal            Electronics   \n",
       "2                   Raj    Male       Jharkhand            Electronics   \n",
       "3          Madhusudhan     Male  Andhra Pradesh            Electronics   \n",
       "4          Rahul Pathak    Male           Bihar            Electronics   \n",
       "5     Hari Krishna D R     Male       Karnataka                Fashion   \n",
       "6     Mukesh Ambani S S    Male          Others              Groceries   \n",
       "7                 Rani   Female          Kerala          Baby Products   \n",
       "8                Arathi  Female          Kerala                  Books   \n",
       "9                Tushar    Male  Madhya Pradesh                Fashion   \n",
       "10       Chandra Sekhar    Male  Andhra Pradesh            Electronics   \n",
       "11    Y C Karthikreddy     Male  Andhra Pradesh            Electronics   \n",
       "12              Shradha  Female          Others            Electronics   \n",
       "13           Aishwarya   Female  Madhya Pradesh                Fashion   \n",
       "14           Madhumati   Female       Karnataka            Electronics   \n",
       "15              Sakshi   Female    Chhattisgarh            Electronics   \n",
       "16   Salman Sirumavilla    Male  Andhra Pradesh            Electronics   \n",
       "17                  Ann  Female     Maharashtra                  Books   \n",
       "18                Reola  Female             Goa          Baby Products   \n",
       "19         Vikas Sharma    Male           Bihar                 Others   \n",
       "20         Digpal Singh    Male          Others            Electronics   \n",
       "\n",
       "      Preferred brand Times of shop in a month  \\\n",
       "0              Others                     2 -5   \n",
       "1                Sony                     2 -5   \n",
       "2             Samsung         1 or Less than 1   \n",
       "3                Sony         1 or Less than 1   \n",
       "4             Samsung                     2 -5   \n",
       "5              Others                     2 -5   \n",
       "6              Others                      6-8   \n",
       "7   Johnson & Johnson         1 or Less than 1   \n",
       "8              Others         1 or Less than 1   \n",
       "9              Others                     2 -5   \n",
       "10               Sony         1 or Less than 1   \n",
       "11            Samsung         1 or Less than 1   \n",
       "12            Samsung                     2 -5   \n",
       "13               Zara         1 or Less than 1   \n",
       "14            Samsung         1 or Less than 1   \n",
       "15             Xiomai                     2 -5   \n",
       "16            Samsung         1 or Less than 1   \n",
       "17             Others         1 or Less than 1   \n",
       "18               Zara                      6-8   \n",
       "19             Others         1 or Less than 1   \n",
       "20             Xiomai              More than 8   \n",
       "\n",
       "   Maximum amount  spend on single order Maximum amount expend on each month  \\\n",
       "0                             500 - 1500                         1000 - 5000   \n",
       "1                          Less than 500                         1000 - 5000   \n",
       "2                         More than 5000                     More than 10000   \n",
       "3                             500 - 1500                         1000 - 5000   \n",
       "4                             500 - 1500                         1000 - 5000   \n",
       "5                            3001 - 5000                        5001 - 10000   \n",
       "6                            1501 - 3000                     More than 10000   \n",
       "7                             500 - 1500                      Less than 1000   \n",
       "8                             500 - 1500                      Less than 1000   \n",
       "9                            1501 - 3000                         1000 - 5000   \n",
       "10                            500 - 1500                         1000 - 5000   \n",
       "11                           1501 - 3000                     More than 10000   \n",
       "12                            500 - 1500                         1000 - 5000   \n",
       "13                            500 - 1500                         1000 - 5000   \n",
       "14                            500 - 1500                         1000 - 5000   \n",
       "15                           1501 - 3000                      Less than 1000   \n",
       "16                           1501 - 3000                         1000 - 5000   \n",
       "17                           1501 - 3000                         1000 - 5000   \n",
       "18                           1501 - 3000                        5001 - 10000   \n",
       "19                         Less than 500                      Less than 1000   \n",
       "20                        More than 5000                        5001 - 10000   \n",
       "\n",
       "   Acceptable number of delivery days       Type of offer you like most  \n",
       "0                          2 - 3 Days                 Discount On Price  \n",
       "1                          2 - 3 Days                 Discount On Price  \n",
       "2                          2 - 3 Days  Product Purchase on Installement  \n",
       "3                          2 - 3 Days                 Discount On Price  \n",
       "4                          3 - 5 Days                 Discount On Price  \n",
       "5                          2 - 3 Days                 Discount On Price  \n",
       "6                               1 Day                            Others  \n",
       "7                          2 - 3 Days                 Discount On Price  \n",
       "8                          3 - 5 Days                 Discount On Price  \n",
       "9                          3 - 5 Days                 Discount On Price  \n",
       "10                         2 - 3 Days                 Discount On Price  \n",
       "11                   More than 5 days                 Discount On Price  \n",
       "12                         2 - 3 Days                 Discount On Price  \n",
       "13                   More than 5 days                 Discount On Price  \n",
       "14                         3 - 5 Days                 Discount On Price  \n",
       "15                         3 - 5 Days                 Discount On Price  \n",
       "16                         3 - 5 Days                            Others  \n",
       "17                         2 - 3 Days                 Discount On Price  \n",
       "18                         3 - 5 Days              Delivery on same day  \n",
       "19                              1 Day                 Discount On Price  \n",
       "20                         2 - 3 Days              Delivery on same day  "
      ]
     },
     "execution_count": 142,
     "metadata": {},
     "output_type": "execute_result"
    }
   ],
   "source": [
    "df"
   ]
  },
  {
   "cell_type": "markdown",
   "metadata": {},
   "source": [
    "### Column Renaming"
   ]
  },
  {
   "cell_type": "code",
   "execution_count": 143,
   "metadata": {
    "_uuid": "1487eda6129a086e1fa179f04b33464ad3c02823"
   },
   "outputs": [],
   "source": [
    "df.rename(columns={'Name':'name', 'Gender':'gender', 'Location':'location', 'Preferred product type': 'product_type', 'Preferred brand':'brand', 'Times of shop in a month':'monthly_shopping', 'Maximum amount spend on single order' : 'single_order_max', 'Maximum amount expend on each month':'monthly_max', 'Acceptable number of delivery days':'delivery_days', 'Type of offer you like most':'type_of_offer'},inplace=True)"
   ]
  },
  {
   "cell_type": "markdown",
   "metadata": {},
   "source": [
    "### Select categorical columns"
   ]
  },
  {
   "cell_type": "code",
   "execution_count": 144,
   "metadata": {},
   "outputs": [],
   "source": [
    "# Select the categorical columns\n",
    "df_cat = df[['gender','location', 'product_type', 'brand', 'monthly_shopping', 'monthly_max','delivery_days','type_of_offer']]"
   ]
  },
  {
   "cell_type": "code",
   "execution_count": 145,
   "metadata": {},
   "outputs": [
    {
     "data": {
      "text/html": [
       "<div>\n",
       "<style scoped>\n",
       "    .dataframe tbody tr th:only-of-type {\n",
       "        vertical-align: middle;\n",
       "    }\n",
       "\n",
       "    .dataframe tbody tr th {\n",
       "        vertical-align: top;\n",
       "    }\n",
       "\n",
       "    .dataframe thead th {\n",
       "        text-align: right;\n",
       "    }\n",
       "</style>\n",
       "<table border=\"1\" class=\"dataframe\">\n",
       "  <thead>\n",
       "    <tr style=\"text-align: right;\">\n",
       "      <th></th>\n",
       "      <th>gender</th>\n",
       "      <th>location</th>\n",
       "      <th>product_type</th>\n",
       "      <th>brand</th>\n",
       "      <th>monthly_shopping</th>\n",
       "      <th>monthly_max</th>\n",
       "      <th>delivery_days</th>\n",
       "      <th>type_of_offer</th>\n",
       "    </tr>\n",
       "  </thead>\n",
       "  <tbody>\n",
       "    <tr>\n",
       "      <th>0</th>\n",
       "      <td>Male</td>\n",
       "      <td>Bihar</td>\n",
       "      <td>Fashion</td>\n",
       "      <td>Others</td>\n",
       "      <td>2 -5</td>\n",
       "      <td>1000 - 5000</td>\n",
       "      <td>2 - 3 Days</td>\n",
       "      <td>Discount On Price</td>\n",
       "    </tr>\n",
       "    <tr>\n",
       "      <th>1</th>\n",
       "      <td>Male</td>\n",
       "      <td>West Bengal</td>\n",
       "      <td>Electronics</td>\n",
       "      <td>Sony</td>\n",
       "      <td>2 -5</td>\n",
       "      <td>1000 - 5000</td>\n",
       "      <td>2 - 3 Days</td>\n",
       "      <td>Discount On Price</td>\n",
       "    </tr>\n",
       "    <tr>\n",
       "      <th>2</th>\n",
       "      <td>Male</td>\n",
       "      <td>Jharkhand</td>\n",
       "      <td>Electronics</td>\n",
       "      <td>Samsung</td>\n",
       "      <td>1 or Less than 1</td>\n",
       "      <td>More than 10000</td>\n",
       "      <td>2 - 3 Days</td>\n",
       "      <td>Product Purchase on Installement</td>\n",
       "    </tr>\n",
       "    <tr>\n",
       "      <th>3</th>\n",
       "      <td>Male</td>\n",
       "      <td>Andhra Pradesh</td>\n",
       "      <td>Electronics</td>\n",
       "      <td>Sony</td>\n",
       "      <td>1 or Less than 1</td>\n",
       "      <td>1000 - 5000</td>\n",
       "      <td>2 - 3 Days</td>\n",
       "      <td>Discount On Price</td>\n",
       "    </tr>\n",
       "    <tr>\n",
       "      <th>4</th>\n",
       "      <td>Male</td>\n",
       "      <td>Bihar</td>\n",
       "      <td>Electronics</td>\n",
       "      <td>Samsung</td>\n",
       "      <td>2 -5</td>\n",
       "      <td>1000 - 5000</td>\n",
       "      <td>3 - 5 Days</td>\n",
       "      <td>Discount On Price</td>\n",
       "    </tr>\n",
       "  </tbody>\n",
       "</table>\n",
       "</div>"
      ],
      "text/plain": [
       "  gender        location product_type    brand  monthly_shopping  \\\n",
       "0   Male           Bihar      Fashion   Others              2 -5   \n",
       "1   Male     West Bengal  Electronics     Sony              2 -5   \n",
       "2   Male       Jharkhand  Electronics  Samsung  1 or Less than 1   \n",
       "3   Male  Andhra Pradesh  Electronics     Sony  1 or Less than 1   \n",
       "4   Male           Bihar  Electronics  Samsung              2 -5   \n",
       "\n",
       "       monthly_max delivery_days                     type_of_offer  \n",
       "0      1000 - 5000    2 - 3 Days                 Discount On Price  \n",
       "1      1000 - 5000    2 - 3 Days                 Discount On Price  \n",
       "2  More than 10000    2 - 3 Days  Product Purchase on Installement  \n",
       "3      1000 - 5000    2 - 3 Days                 Discount On Price  \n",
       "4      1000 - 5000    3 - 5 Days                 Discount On Price  "
      ]
     },
     "execution_count": 145,
     "metadata": {},
     "output_type": "execute_result"
    }
   ],
   "source": [
    "df_cat.head()"
   ]
  },
  {
   "cell_type": "markdown",
   "metadata": {
    "_uuid": "c9ae867bf7d7840b678fd8b9e48b98d9ff2b2cec"
   },
   "source": [
    "### Data Inspection"
   ]
  },
  {
   "cell_type": "code",
   "execution_count": 146,
   "metadata": {
    "_uuid": "04a0a3735437963962acbda5ea9f2c83b7a21ba0"
   },
   "outputs": [
    {
     "data": {
      "text/plain": [
       "(21, 8)"
      ]
     },
     "execution_count": 146,
     "metadata": {},
     "output_type": "execute_result"
    }
   ],
   "source": [
    "df_cat.shape"
   ]
  },
  {
   "cell_type": "code",
   "execution_count": 147,
   "metadata": {
    "_uuid": "749ef20262b63a4c914dcd76e6856da312c30c72"
   },
   "outputs": [
    {
     "data": {
      "text/html": [
       "<div>\n",
       "<style scoped>\n",
       "    .dataframe tbody tr th:only-of-type {\n",
       "        vertical-align: middle;\n",
       "    }\n",
       "\n",
       "    .dataframe tbody tr th {\n",
       "        vertical-align: top;\n",
       "    }\n",
       "\n",
       "    .dataframe thead th {\n",
       "        text-align: right;\n",
       "    }\n",
       "</style>\n",
       "<table border=\"1\" class=\"dataframe\">\n",
       "  <thead>\n",
       "    <tr style=\"text-align: right;\">\n",
       "      <th></th>\n",
       "      <th>gender</th>\n",
       "      <th>location</th>\n",
       "      <th>product_type</th>\n",
       "      <th>brand</th>\n",
       "      <th>monthly_shopping</th>\n",
       "      <th>monthly_max</th>\n",
       "      <th>delivery_days</th>\n",
       "      <th>type_of_offer</th>\n",
       "    </tr>\n",
       "  </thead>\n",
       "  <tbody>\n",
       "    <tr>\n",
       "      <th>count</th>\n",
       "      <td>21</td>\n",
       "      <td>21</td>\n",
       "      <td>21</td>\n",
       "      <td>21</td>\n",
       "      <td>21</td>\n",
       "      <td>21</td>\n",
       "      <td>21</td>\n",
       "      <td>21</td>\n",
       "    </tr>\n",
       "    <tr>\n",
       "      <th>unique</th>\n",
       "      <td>2</td>\n",
       "      <td>11</td>\n",
       "      <td>6</td>\n",
       "      <td>6</td>\n",
       "      <td>4</td>\n",
       "      <td>4</td>\n",
       "      <td>4</td>\n",
       "      <td>4</td>\n",
       "    </tr>\n",
       "    <tr>\n",
       "      <th>top</th>\n",
       "      <td>Male</td>\n",
       "      <td>Andhra Pradesh</td>\n",
       "      <td>Electronics</td>\n",
       "      <td>Others</td>\n",
       "      <td>1 or Less than 1</td>\n",
       "      <td>1000 - 5000</td>\n",
       "      <td>2 - 3 Days</td>\n",
       "      <td>Discount On Price</td>\n",
       "    </tr>\n",
       "    <tr>\n",
       "      <th>freq</th>\n",
       "      <td>13</td>\n",
       "      <td>4</td>\n",
       "      <td>11</td>\n",
       "      <td>7</td>\n",
       "      <td>11</td>\n",
       "      <td>11</td>\n",
       "      <td>10</td>\n",
       "      <td>16</td>\n",
       "    </tr>\n",
       "  </tbody>\n",
       "</table>\n",
       "</div>"
      ],
      "text/plain": [
       "       gender        location product_type   brand  monthly_shopping  \\\n",
       "count      21              21           21      21                21   \n",
       "unique      2              11            6       6                 4   \n",
       "top      Male  Andhra Pradesh  Electronics  Others  1 or Less than 1   \n",
       "freq       13               4           11       7                11   \n",
       "\n",
       "        monthly_max delivery_days      type_of_offer  \n",
       "count            21            21                 21  \n",
       "unique            4             4                  4  \n",
       "top     1000 - 5000    2 - 3 Days  Discount On Price  \n",
       "freq             11            10                 16  "
      ]
     },
     "execution_count": 147,
     "metadata": {},
     "output_type": "execute_result"
    }
   ],
   "source": [
    "df_cat.describe()"
   ]
  },
  {
   "cell_type": "code",
   "execution_count": 148,
   "metadata": {
    "_uuid": "35d917ac6d6defe628b2fcf81bf063307017f488"
   },
   "outputs": [
    {
     "name": "stdout",
     "output_type": "stream",
     "text": [
      "<class 'pandas.core.frame.DataFrame'>\n",
      "RangeIndex: 21 entries, 0 to 20\n",
      "Data columns (total 8 columns):\n",
      " #   Column            Non-Null Count  Dtype \n",
      "---  ------            --------------  ----- \n",
      " 0   gender            21 non-null     object\n",
      " 1   location          21 non-null     object\n",
      " 2   product_type      21 non-null     object\n",
      " 3   brand             21 non-null     object\n",
      " 4   monthly_shopping  21 non-null     object\n",
      " 5   monthly_max       21 non-null     object\n",
      " 6   delivery_days     21 non-null     object\n",
      " 7   type_of_offer     21 non-null     object\n",
      "dtypes: object(8)\n",
      "memory usage: 1.4+ KB\n"
     ]
    }
   ],
   "source": [
    "df_cat.info()"
   ]
  },
  {
   "cell_type": "markdown",
   "metadata": {
    "_uuid": "0eeb418899c25f8f23e7aac3213834e6d2753997"
   },
   "source": [
    "### Check Null Value"
   ]
  },
  {
   "cell_type": "code",
   "execution_count": 149,
   "metadata": {
    "_uuid": "9e0419dd6a38162e99fbb3bf010d3b470bb01a2c"
   },
   "outputs": [
    {
     "data": {
      "text/plain": [
       "gender              False\n",
       "location            False\n",
       "product_type        False\n",
       "brand               False\n",
       "monthly_shopping    False\n",
       "monthly_max         False\n",
       "delivery_days       False\n",
       "type_of_offer       False\n",
       "dtype: bool"
      ]
     },
     "execution_count": 149,
     "metadata": {},
     "output_type": "execute_result"
    }
   ],
   "source": [
    "# Checking Null values\n",
    "df_cat.isnull().any()\n",
    "# There are no NULL values in the dataset, hence it is clean."
   ]
  },
  {
   "cell_type": "markdown",
   "metadata": {
    "_uuid": "53013889c087c89c172c0c58b37444d0d0b9f8bc"
   },
   "source": [
    "### Create Model"
   ]
  },
  {
   "cell_type": "code",
   "execution_count": null,
   "metadata": {},
   "outputs": [],
   "source": [
    "from kmodes.kmodes import KModes"
   ]
  },
  {
   "cell_type": "code",
   "execution_count": 151,
   "metadata": {},
   "outputs": [
    {
     "data": {
      "text/plain": [
       "array([['Male', 'Bihar', 'Fashion', 'Others', '2 -5', '1000 - 5000',\n",
       "        '2 - 3 Days', 'Discount On Price'],\n",
       "       ['Male', 'West Bengal', 'Electronics', 'Sony', '2 -5',\n",
       "        '1000 - 5000', '2 - 3 Days', 'Discount On Price'],\n",
       "       ['Male', 'Jharkhand', 'Electronics', 'Samsung',\n",
       "        '1 or Less than 1', 'More than 10000', '2 - 3 Days',\n",
       "        'Product Purchase on Installement'],\n",
       "       ['Male', 'Andhra Pradesh', 'Electronics', 'Sony',\n",
       "        '1 or Less than 1', '1000 - 5000', '2 - 3 Days',\n",
       "        'Discount On Price'],\n",
       "       ['Male', 'Bihar', 'Electronics', 'Samsung', '2 -5', '1000 - 5000',\n",
       "        '3 - 5 Days', 'Discount On Price'],\n",
       "       ['Male', 'Karnataka', 'Fashion', 'Others', '2 -5', '5001 - 10000',\n",
       "        '2 - 3 Days', 'Discount On Price'],\n",
       "       ['Male', 'Others', 'Groceries', 'Others', '6-8',\n",
       "        'More than 10000', '1 Day', 'Others'],\n",
       "       ['Female', 'Kerala', 'Baby Products', 'Johnson & Johnson',\n",
       "        '1 or Less than 1', 'Less than 1000', '2 - 3 Days',\n",
       "        'Discount On Price'],\n",
       "       ['Female', 'Kerala', 'Books', 'Others', '1 or Less than 1',\n",
       "        'Less than 1000', '3 - 5 Days', 'Discount On Price'],\n",
       "       ['Male', 'Madhya Pradesh', 'Fashion', 'Others', '2 -5',\n",
       "        '1000 - 5000', '3 - 5 Days', 'Discount On Price'],\n",
       "       ['Male', 'Andhra Pradesh', 'Electronics', 'Sony',\n",
       "        '1 or Less than 1', '1000 - 5000', '2 - 3 Days',\n",
       "        'Discount On Price'],\n",
       "       ['Male', 'Andhra Pradesh', 'Electronics', 'Samsung',\n",
       "        '1 or Less than 1', 'More than 10000', 'More than 5 days',\n",
       "        'Discount On Price'],\n",
       "       ['Female', 'Others', 'Electronics', 'Samsung', '2 -5',\n",
       "        '1000 - 5000', '2 - 3 Days', 'Discount On Price'],\n",
       "       ['Female', 'Madhya Pradesh', 'Fashion', 'Zara',\n",
       "        '1 or Less than 1', '1000 - 5000', 'More than 5 days',\n",
       "        'Discount On Price'],\n",
       "       ['Female', 'Karnataka', 'Electronics', 'Samsung',\n",
       "        '1 or Less than 1', '1000 - 5000', '3 - 5 Days',\n",
       "        'Discount On Price'],\n",
       "       ['Female', 'Chhattisgarh', 'Electronics', 'Xiomai', '2 -5',\n",
       "        'Less than 1000', '3 - 5 Days', 'Discount On Price'],\n",
       "       ['Male', 'Andhra Pradesh', 'Electronics', 'Samsung',\n",
       "        '1 or Less than 1', '1000 - 5000', '3 - 5 Days', 'Others'],\n",
       "       ['Female', 'Maharashtra', 'Books', 'Others', '1 or Less than 1',\n",
       "        '1000 - 5000', '2 - 3 Days', 'Discount On Price'],\n",
       "       ['Female', 'Goa', 'Baby Products', 'Zara', '6-8', '5001 - 10000',\n",
       "        '3 - 5 Days', 'Delivery on same day'],\n",
       "       ['Male', 'Bihar', 'Others', 'Others', '1 or Less than 1',\n",
       "        'Less than 1000', '1 Day', 'Discount On Price'],\n",
       "       ['Male', 'Others', 'Electronics', 'Xiomai', 'More than 8',\n",
       "        '5001 - 10000', '2 - 3 Days', 'Delivery on same day']],\n",
       "      dtype=object)"
      ]
     },
     "execution_count": 151,
     "metadata": {},
     "output_type": "execute_result"
    }
   ],
   "source": [
    "# Convert the dataframe into matrix\n",
    "dfMatrix = df_cat.to_numpy()\n",
    "dfMatrix"
   ]
  },
  {
   "cell_type": "markdown",
   "metadata": {},
   "source": [
    "### Determine optimal number of clusters with Elbow Method"
   ]
  },
  {
   "cell_type": "code",
   "execution_count": 152,
   "metadata": {},
   "outputs": [
    {
     "name": "stdout",
     "output_type": "stream",
     "text": [
      "Cluster initiation: 1\n",
      "Cluster initiation: 2\n",
      "Cluster initiation: 3\n",
      "Cluster initiation: 4\n",
      "Cluster initiation: 5\n",
      "Cluster initiation: 6\n",
      "Cluster initiation: 7\n",
      "Cluster initiation: 8\n",
      "Cluster initiation: 9\n"
     ]
    }
   ],
   "source": [
    "# Choosing optimal K\n",
    "cost = []\n",
    "for cluster in range(1, 10):\n",
    "    try:\n",
    "        kmodes = KModes(n_jobs = -1, n_clusters = cluster, init = 'Huang', random_state = 0)\n",
    "        kmodes.fit_predict(dfMatrix)\n",
    "        cost.append(kmodes.cost_)\n",
    "        print('Cluster initiation: {}'.format(cluster))\n",
    "    except:\n",
    "        break"
   ]
  },
  {
   "cell_type": "code",
   "execution_count": 153,
   "metadata": {},
   "outputs": [
    {
     "data": {
      "text/html": [
       "<div>\n",
       "<style scoped>\n",
       "    .dataframe tbody tr th:only-of-type {\n",
       "        vertical-align: middle;\n",
       "    }\n",
       "\n",
       "    .dataframe tbody tr th {\n",
       "        vertical-align: top;\n",
       "    }\n",
       "\n",
       "    .dataframe thead th {\n",
       "        text-align: right;\n",
       "    }\n",
       "</style>\n",
       "<table border=\"1\" class=\"dataframe\">\n",
       "  <thead>\n",
       "    <tr style=\"text-align: right;\">\n",
       "      <th></th>\n",
       "      <th>Cluster</th>\n",
       "      <th>Cost</th>\n",
       "    </tr>\n",
       "  </thead>\n",
       "  <tbody>\n",
       "    <tr>\n",
       "      <th>0</th>\n",
       "      <td>1</td>\n",
       "      <td>85.0</td>\n",
       "    </tr>\n",
       "    <tr>\n",
       "      <th>1</th>\n",
       "      <td>2</td>\n",
       "      <td>71.0</td>\n",
       "    </tr>\n",
       "    <tr>\n",
       "      <th>2</th>\n",
       "      <td>3</td>\n",
       "      <td>61.0</td>\n",
       "    </tr>\n",
       "    <tr>\n",
       "      <th>3</th>\n",
       "      <td>4</td>\n",
       "      <td>55.0</td>\n",
       "    </tr>\n",
       "    <tr>\n",
       "      <th>4</th>\n",
       "      <td>5</td>\n",
       "      <td>50.0</td>\n",
       "    </tr>\n",
       "    <tr>\n",
       "      <th>5</th>\n",
       "      <td>6</td>\n",
       "      <td>46.0</td>\n",
       "    </tr>\n",
       "    <tr>\n",
       "      <th>6</th>\n",
       "      <td>7</td>\n",
       "      <td>42.0</td>\n",
       "    </tr>\n",
       "    <tr>\n",
       "      <th>7</th>\n",
       "      <td>8</td>\n",
       "      <td>40.0</td>\n",
       "    </tr>\n",
       "    <tr>\n",
       "      <th>8</th>\n",
       "      <td>9</td>\n",
       "      <td>33.0</td>\n",
       "    </tr>\n",
       "  </tbody>\n",
       "</table>\n",
       "</div>"
      ],
      "text/plain": [
       "   Cluster  Cost\n",
       "0        1  85.0\n",
       "1        2  71.0\n",
       "2        3  61.0\n",
       "3        4  55.0\n",
       "4        5  50.0\n",
       "5        6  46.0\n",
       "6        7  42.0\n",
       "7        8  40.0\n",
       "8        9  33.0"
      ]
     },
     "execution_count": 153,
     "metadata": {},
     "output_type": "execute_result"
    }
   ],
   "source": [
    "# Converting the results into a dataframe and plotting them\n",
    "df_cost = pd.DataFrame({'Cluster': range(1, 10), 'Cost': cost})\n",
    "df_cost"
   ]
  },
  {
   "cell_type": "code",
   "execution_count": 155,
   "metadata": {},
   "outputs": [
    {
     "data": {
      "image/png": "[encoded data removed]",
      "text/plain": [
       "<Figure size 800x480 with 1 Axes>"
      ]
     },
     "metadata": {
      "needs_background": "light"
     },
     "output_type": "display_data"
    },
    {
     "data": {
      "text/plain": [
       "<ggplot: (8782386966935)>"
      ]
     },
     "execution_count": 155,
     "metadata": {},
     "output_type": "execute_result"
    }
   ],
   "source": [
    "plotnine.options.figure_size = (8, 4.8)\n",
    "(\n",
    "    ggplot(data = df_cost)+\n",
    "    geom_line(aes(x = 'Cluster',\n",
    "                  y = 'Cost'))+\n",
    "    geom_point(aes(x = 'Cluster',\n",
    "                   y = 'Cost'))+\n",
    "    geom_label(aes(x = 'Cluster',\n",
    "                   y = 'Cost',\n",
    "                   label = 'Cluster'),\n",
    "               size = 10,\n",
    "               nudge_y = 1000) +\n",
    "    labs(title = 'Optimal number of cluster with Elbow Method')+\n",
    "    xlab('Number of Clusters k')+\n",
    "    ylab('Cost')+\n",
    "    theme_minimal()\n",
    ")"
   ]
  },
  {
   "cell_type": "markdown",
   "metadata": {},
   "source": [
    "### Fit the data"
   ]
  },
  {
   "cell_type": "code",
   "execution_count": 156,
   "metadata": {},
   "outputs": [
    {
     "data": {
      "text/plain": [
       "array([2, 1, 1, 1, 1, 2, 2, 0, 0, 2, 1, 1, 1, 0, 1, 0, 1, 0, 0, 2, 1],\n",
       "      dtype=uint16)"
      ]
     },
     "execution_count": 156,
     "metadata": {},
     "output_type": "execute_result"
    }
   ],
   "source": [
    "# Fit the cluster\n",
    "kmodes = KModes(n_jobs = -1, n_clusters = 3, init = 'Huang', random_state = 0)\n",
    "kmodes.fit_predict(dfMatrix)"
   ]
  },
  {
   "cell_type": "code",
   "execution_count": null,
   "metadata": {},
   "outputs": [],
   "source": []
  },
  {
   "cell_type": "code",
   "execution_count": 157,
   "metadata": {},
   "outputs": [
    {
     "data": {
      "text/plain": [
       "array([['Female', 'Kerala', 'Baby Products', 'Others',\n",
       "        '1 or Less than 1', 'Less than 1000', '3 - 5 Days',\n",
       "        'Discount On Price'],\n",
       "       ['Male', 'Andhra Pradesh', 'Electronics', 'Samsung',\n",
       "        '1 or Less than 1', '1000 - 5000', '2 - 3 Days',\n",
       "        'Discount On Price'],\n",
       "       ['Male', 'Bihar', 'Fashion', 'Others', '2 -5', '1000 - 5000',\n",
       "        '1 Day', 'Discount On Price']], dtype='<U17')"
      ]
     },
     "execution_count": 157,
     "metadata": {},
     "output_type": "execute_result"
    }
   ],
   "source": [
    "# Cluster centorid\n",
    "kmodes.cluster_centroids_"
   ]
  },
  {
   "cell_type": "code",
   "execution_count": null,
   "metadata": {},
   "outputs": [],
   "source": []
  },
  {
   "cell_type": "code",
   "execution_count": 158,
   "metadata": {},
   "outputs": [
    {
     "data": {
      "text/plain": [
       "1"
      ]
     },
     "execution_count": 158,
     "metadata": {},
     "output_type": "execute_result"
    }
   ],
   "source": [
    "# Check the iteration of the clusters created\n",
    "kmodes.n_iter_"
   ]
  },
  {
   "cell_type": "code",
   "execution_count": null,
   "metadata": {},
   "outputs": [],
   "source": []
  },
  {
   "cell_type": "code",
   "execution_count": 159,
   "metadata": {},
   "outputs": [
    {
     "data": {
      "text/plain": [
       "61.0"
      ]
     },
     "execution_count": 159,
     "metadata": {},
     "output_type": "execute_result"
    }
   ],
   "source": [
    "# Check the cost of the clusters created\n",
    "kmodes.cost_"
   ]
  },
  {
   "cell_type": "markdown",
   "metadata": {},
   "source": [
    "### Add the cluster to the dataframe"
   ]
  },
  {
   "cell_type": "code",
   "execution_count": 163,
   "metadata": {},
   "outputs": [
    {
     "name": "stderr",
     "output_type": "stream",
     "text": [
      "/tmp/ipykernel_16078/3512418192.py:2: SettingWithCopyWarning: \n",
      "A value is trying to be set on a copy of a slice from a DataFrame.\n",
      "Try using .loc[row_indexer,col_indexer] = value instead\n",
      "\n",
      "See the caveats in the documentation: https://pandas.pydata.org/pandas-docs/stable/user_guide/indexing.html#returning-a-view-versus-a-copy\n",
      "/tmp/ipykernel_16078/3512418192.py:3: SettingWithCopyWarning: \n",
      "A value is trying to be set on a copy of a slice from a DataFrame.\n",
      "Try using .loc[row_indexer,col_indexer] = value instead\n",
      "\n",
      "See the caveats in the documentation: https://pandas.pydata.org/pandas-docs/stable/user_guide/indexing.html#returning-a-view-versus-a-copy\n"
     ]
    }
   ],
   "source": [
    "# Add the cluster to the dataframe\n",
    "df_cat['Cluster Labels'] = kmodes.labels_\n",
    "df_cat['Segment'] = df_cat['Cluster Labels'].map({0:'First', 1:'Second', 2:'Third'})"
   ]
  },
  {
   "cell_type": "code",
   "execution_count": null,
   "metadata": {},
   "outputs": [],
   "source": []
  },
  {
   "cell_type": "code",
   "execution_count": 164,
   "metadata": {},
   "outputs": [
    {
     "name": "stderr",
     "output_type": "stream",
     "text": [
      "/tmp/ipykernel_16078/3231684393.py:2: SettingWithCopyWarning: \n",
      "A value is trying to be set on a copy of a slice from a DataFrame.\n",
      "Try using .loc[row_indexer,col_indexer] = value instead\n",
      "\n",
      "See the caveats in the documentation: https://pandas.pydata.org/pandas-docs/stable/user_guide/indexing.html#returning-a-view-versus-a-copy\n",
      "/tmp/ipykernel_16078/3231684393.py:3: SettingWithCopyWarning: \n",
      "A value is trying to be set on a copy of a slice from a DataFrame.\n",
      "Try using .loc[row_indexer,col_indexer] = value instead\n",
      "\n",
      "See the caveats in the documentation: https://pandas.pydata.org/pandas-docs/stable/user_guide/indexing.html#returning-a-view-versus-a-copy\n"
     ]
    }
   ],
   "source": [
    "# Order the cluster\n",
    "df_cat['Segment'] = df_cat['Segment'].astype('category')\n",
    "df_cat['Segment'] = df_cat['Segment'].cat.reorder_categories(['First', 'Second', 'Third'])"
   ]
  },
  {
   "cell_type": "code",
   "execution_count": null,
   "metadata": {},
   "outputs": [],
   "source": []
  },
  {
   "cell_type": "code",
   "execution_count": 165,
   "metadata": {},
   "outputs": [
    {
     "data": {
      "text/html": [
       "<div>\n",
       "<style scoped>\n",
       "    .dataframe tbody tr th:only-of-type {\n",
       "        vertical-align: middle;\n",
       "    }\n",
       "\n",
       "    .dataframe tbody tr th {\n",
       "        vertical-align: top;\n",
       "    }\n",
       "\n",
       "    .dataframe thead th {\n",
       "        text-align: right;\n",
       "    }\n",
       "</style>\n",
       "<table border=\"1\" class=\"dataframe\">\n",
       "  <thead>\n",
       "    <tr style=\"text-align: right;\">\n",
       "      <th></th>\n",
       "      <th>gender</th>\n",
       "      <th>location</th>\n",
       "      <th>product_type</th>\n",
       "      <th>brand</th>\n",
       "      <th>monthly_shopping</th>\n",
       "      <th>monthly_max</th>\n",
       "      <th>delivery_days</th>\n",
       "      <th>type_of_offer</th>\n",
       "      <th>Cluster Labels</th>\n",
       "      <th>Segment</th>\n",
       "    </tr>\n",
       "  </thead>\n",
       "  <tbody>\n",
       "    <tr>\n",
       "      <th>0</th>\n",
       "      <td>Male</td>\n",
       "      <td>Bihar</td>\n",
       "      <td>Fashion</td>\n",
       "      <td>Others</td>\n",
       "      <td>2 -5</td>\n",
       "      <td>1000 - 5000</td>\n",
       "      <td>2 - 3 Days</td>\n",
       "      <td>Discount On Price</td>\n",
       "      <td>2</td>\n",
       "      <td>Third</td>\n",
       "    </tr>\n",
       "    <tr>\n",
       "      <th>1</th>\n",
       "      <td>Male</td>\n",
       "      <td>West Bengal</td>\n",
       "      <td>Electronics</td>\n",
       "      <td>Sony</td>\n",
       "      <td>2 -5</td>\n",
       "      <td>1000 - 5000</td>\n",
       "      <td>2 - 3 Days</td>\n",
       "      <td>Discount On Price</td>\n",
       "      <td>1</td>\n",
       "      <td>Second</td>\n",
       "    </tr>\n",
       "    <tr>\n",
       "      <th>2</th>\n",
       "      <td>Male</td>\n",
       "      <td>Jharkhand</td>\n",
       "      <td>Electronics</td>\n",
       "      <td>Samsung</td>\n",
       "      <td>1 or Less than 1</td>\n",
       "      <td>More than 10000</td>\n",
       "      <td>2 - 3 Days</td>\n",
       "      <td>Product Purchase on Installement</td>\n",
       "      <td>1</td>\n",
       "      <td>Second</td>\n",
       "    </tr>\n",
       "    <tr>\n",
       "      <th>3</th>\n",
       "      <td>Male</td>\n",
       "      <td>Andhra Pradesh</td>\n",
       "      <td>Electronics</td>\n",
       "      <td>Sony</td>\n",
       "      <td>1 or Less than 1</td>\n",
       "      <td>1000 - 5000</td>\n",
       "      <td>2 - 3 Days</td>\n",
       "      <td>Discount On Price</td>\n",
       "      <td>1</td>\n",
       "      <td>Second</td>\n",
       "    </tr>\n",
       "    <tr>\n",
       "      <th>4</th>\n",
       "      <td>Male</td>\n",
       "      <td>Bihar</td>\n",
       "      <td>Electronics</td>\n",
       "      <td>Samsung</td>\n",
       "      <td>2 -5</td>\n",
       "      <td>1000 - 5000</td>\n",
       "      <td>3 - 5 Days</td>\n",
       "      <td>Discount On Price</td>\n",
       "      <td>1</td>\n",
       "      <td>Second</td>\n",
       "    </tr>\n",
       "  </tbody>\n",
       "</table>\n",
       "</div>"
      ],
      "text/plain": [
       "  gender        location product_type    brand  monthly_shopping  \\\n",
       "0   Male           Bihar      Fashion   Others              2 -5   \n",
       "1   Male     West Bengal  Electronics     Sony              2 -5   \n",
       "2   Male       Jharkhand  Electronics  Samsung  1 or Less than 1   \n",
       "3   Male  Andhra Pradesh  Electronics     Sony  1 or Less than 1   \n",
       "4   Male           Bihar  Electronics  Samsung              2 -5   \n",
       "\n",
       "       monthly_max delivery_days                     type_of_offer  \\\n",
       "0      1000 - 5000    2 - 3 Days                 Discount On Price   \n",
       "1      1000 - 5000    2 - 3 Days                 Discount On Price   \n",
       "2  More than 10000    2 - 3 Days  Product Purchase on Installement   \n",
       "3      1000 - 5000    2 - 3 Days                 Discount On Price   \n",
       "4      1000 - 5000    3 - 5 Days                 Discount On Price   \n",
       "\n",
       "   Cluster Labels Segment  \n",
       "0               2   Third  \n",
       "1               1  Second  \n",
       "2               1  Second  \n",
       "3               1  Second  \n",
       "4               1  Second  "
      ]
     },
     "execution_count": 165,
     "metadata": {},
     "output_type": "execute_result"
    }
   ],
   "source": [
    "df_cat.head()"
   ]
  },
  {
   "cell_type": "code",
   "execution_count": null,
   "metadata": {},
   "outputs": [],
   "source": []
  },
  {
   "cell_type": "code",
   "execution_count": 166,
   "metadata": {},
   "outputs": [
    {
     "data": {
      "text/plain": [
       "Index(['gender', 'location', 'product_type', 'brand', 'monthly_shopping',\n",
       "       'monthly_max', 'delivery_days', 'type_of_offer', 'Cluster Labels',\n",
       "       'Segment'],\n",
       "      dtype='object')"
      ]
     },
     "execution_count": 166,
     "metadata": {},
     "output_type": "execute_result"
    }
   ],
   "source": [
    "df_cat.columns"
   ]
  },
  {
   "cell_type": "markdown",
   "metadata": {},
   "source": []
  },
  {
   "cell_type": "code",
   "execution_count": 168,
   "metadata": {},
   "outputs": [
    {
     "data": {
      "text/plain": [
       "['gender',\n",
       " 'location',\n",
       " 'product_type',\n",
       " 'brand',\n",
       " 'monthly_shopping',\n",
       " 'monthly_max',\n",
       " 'delivery_days',\n",
       " 'type_of_offer']"
      ]
     },
     "execution_count": 168,
     "metadata": {},
     "output_type": "execute_result"
    }
   ],
   "source": [
    "# Columns for centroids\n",
    "list_col = ['name', 'Cluster Labels', 'Segment']\n",
    "cols = [col for col in df_cat if col not in list_col]\n",
    "cols"
   ]
  },
  {
   "cell_type": "code",
   "execution_count": null,
   "metadata": {},
   "outputs": [],
   "source": []
  },
  {
   "cell_type": "code",
   "execution_count": 170,
   "metadata": {},
   "outputs": [],
   "source": [
    "index = ['First Cluster', 'Second Cluster', 'Third Cluster']"
   ]
  },
  {
   "cell_type": "code",
   "execution_count": 171,
   "metadata": {},
   "outputs": [
    {
     "data": {
      "text/html": [
       "<div>\n",
       "<style scoped>\n",
       "    .dataframe tbody tr th:only-of-type {\n",
       "        vertical-align: middle;\n",
       "    }\n",
       "\n",
       "    .dataframe tbody tr th {\n",
       "        vertical-align: top;\n",
       "    }\n",
       "\n",
       "    .dataframe thead th {\n",
       "        text-align: right;\n",
       "    }\n",
       "</style>\n",
       "<table border=\"1\" class=\"dataframe\">\n",
       "  <thead>\n",
       "    <tr style=\"text-align: right;\">\n",
       "      <th></th>\n",
       "      <th>gender</th>\n",
       "      <th>location</th>\n",
       "      <th>product_type</th>\n",
       "      <th>brand</th>\n",
       "      <th>monthly_shopping</th>\n",
       "      <th>monthly_max</th>\n",
       "      <th>delivery_days</th>\n",
       "      <th>type_of_offer</th>\n",
       "    </tr>\n",
       "  </thead>\n",
       "  <tbody>\n",
       "    <tr>\n",
       "      <th>First Cluster</th>\n",
       "      <td>Female</td>\n",
       "      <td>Kerala</td>\n",
       "      <td>Baby Products</td>\n",
       "      <td>Others</td>\n",
       "      <td>1 or Less than 1</td>\n",
       "      <td>Less than 1000</td>\n",
       "      <td>3 - 5 Days</td>\n",
       "      <td>Discount On Price</td>\n",
       "    </tr>\n",
       "    <tr>\n",
       "      <th>Second Cluster</th>\n",
       "      <td>Male</td>\n",
       "      <td>Andhra Pradesh</td>\n",
       "      <td>Electronics</td>\n",
       "      <td>Samsung</td>\n",
       "      <td>1 or Less than 1</td>\n",
       "      <td>1000 - 5000</td>\n",
       "      <td>2 - 3 Days</td>\n",
       "      <td>Discount On Price</td>\n",
       "    </tr>\n",
       "    <tr>\n",
       "      <th>Third Cluster</th>\n",
       "      <td>Male</td>\n",
       "      <td>Bihar</td>\n",
       "      <td>Fashion</td>\n",
       "      <td>Others</td>\n",
       "      <td>2 -5</td>\n",
       "      <td>1000 - 5000</td>\n",
       "      <td>1 Day</td>\n",
       "      <td>Discount On Price</td>\n",
       "    </tr>\n",
       "  </tbody>\n",
       "</table>\n",
       "</div>"
      ],
      "text/plain": [
       "                gender        location   product_type    brand  \\\n",
       "First Cluster   Female          Kerala  Baby Products   Others   \n",
       "Second Cluster    Male  Andhra Pradesh    Electronics  Samsung   \n",
       "Third Cluster     Male           Bihar        Fashion   Others   \n",
       "\n",
       "                monthly_shopping     monthly_max delivery_days  \\\n",
       "First Cluster   1 or Less than 1  Less than 1000    3 - 5 Days   \n",
       "Second Cluster  1 or Less than 1     1000 - 5000    2 - 3 Days   \n",
       "Third Cluster               2 -5     1000 - 5000         1 Day   \n",
       "\n",
       "                    type_of_offer  \n",
       "First Cluster   Discount On Price  \n",
       "Second Cluster  Discount On Price  \n",
       "Third Cluster   Discount On Price  "
      ]
     },
     "execution_count": 171,
     "metadata": {},
     "output_type": "execute_result"
    }
   ],
   "source": [
    "pd.DataFrame(kmodes.cluster_centroids_, columns = cols, index = index)"
   ]
  }
 ],
 "metadata": {
  "kernelspec": {
   "display_name": "Python 3 (ipykernel)",
   "language": "python",
   "name": "python3"
  },
  "language_info": {
   "codemirror_mode": {
    "name": "ipython",
    "version": 3
   },
   "file_extension": ".py",
   "mimetype": "text/x-python",
   "name": "python",
   "nbconvert_exporter": "python",
   "pygments_lexer": "ipython3",
   "version": "3.10.6"
  }
 },
 "nbformat": 4,
 "nbformat_minor": 4
}
